{
 "cells": [
  {
   "cell_type": "code",
   "execution_count": 2,
   "metadata": {},
   "outputs": [],
   "source": [
    "#NEEDED LIBRARIES\n",
    "\n",
    "import os\n",
    "import subprocess"
   ]
  },
  {
   "cell_type": "code",
   "execution_count": 10,
   "metadata": {},
   "outputs": [
    {
     "name": "stdout",
     "output_type": "stream",
     "text": [
      "Transformed image saved at C:\\Users\\alexf\\Downloads\n"
     ]
    }
   ],
   "source": [
    "#ADDING PATH TO LOCATE INPUT IMAGE AND CREATE OUTPUT IMAGE\n",
    "\n",
    "path = input(\"Paste the (absolute) path of the image you want to transform to B/W:\")\n",
    "os.chdir(path)\n",
    "\n",
    "image_name = input(\"Type the name of the image (ex: IMG_1490.jpg)\")\n",
    "\n",
    "quality_compression_rate = \"28\" #RANGING BETWEEN [1,31] (1: HIGH QUALITY LOW COMPRESSION, 31: LOW QUALITY HIGH COMPRESSION)\n",
    "\n",
    "command = [\"ffmpeg\", \"-y\", \"-i\", image_name, \"-vf\", \"format=gray\", \"-q:v\", quality_compression_rate, \"output_gray_compressed.jpg\"]\n",
    "\n",
    "subprocess.run(command)\n",
    "print(\"Transformed image saved at\", path)"
   ]
  },
  {
   "cell_type": "markdown",
   "metadata": {},
   "source": [
    "Even with a compression rate of 28, some images will still look good, only you start to notice the loss of detail if you zoom in. \n",
    "In our case with a personal image, the original size is 4.3 MB (compression rate equals to 1) and with a value of 28, the size reduced to 752 KB. Thats more than 5 times smaller, great compression and still looking good (if you don't zoom in)."
   ]
  }
 ],
 "metadata": {
  "kernelspec": {
   "display_name": "Python 3",
   "language": "python",
   "name": "python3"
  },
  "language_info": {
   "codemirror_mode": {
    "name": "ipython",
    "version": 3
   },
   "file_extension": ".py",
   "mimetype": "text/x-python",
   "name": "python",
   "nbconvert_exporter": "python",
   "pygments_lexer": "ipython3",
   "version": "3.11.9"
  }
 },
 "nbformat": 4,
 "nbformat_minor": 2
}
