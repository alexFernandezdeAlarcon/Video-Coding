{
 "cells": [
  {
   "cell_type": "code",
   "execution_count": 1,
   "metadata": {},
   "outputs": [],
   "source": [
    "import subprocess\n",
    "import os"
   ]
  },
  {
   "cell_type": "code",
   "execution_count": 4,
   "metadata": {},
   "outputs": [
    {
     "name": "stdout",
     "output_type": "stream",
     "text": [
      "Successfully created: encoded_videos\\BBB_original_1080p.mp4\n",
      "Successfully created: encoded_videos\\BBB_original_720p.mp4\n",
      "Successfully created: encoded_videos\\BBB_original_480p.mp4\n",
      "\n",
      "Encoding ladder complete! Encoded files:\n",
      "encoded_videos\\BBB_original_1080p.mp4\n",
      "encoded_videos\\BBB_original_720p.mp4\n",
      "encoded_videos\\BBB_original_480p.mp4\n"
     ]
    }
   ],
   "source": [
    "#C:\\Users\\paqui\\OneDrive\\Escritorio\\MIQUEL\\UPF\\4o\\Video Cod\\BBB_original.mp4\n",
    "\n",
    "def create_encoding_ladder(resolutions=(\"1080p\", \"720p\", \"480p\")):\n",
    "\n",
    "    input_file = input(\"Enter the absolute path to the video file: \").strip()\n",
    "    if not os.path.isfile(input_file):\n",
    "        print(\"Error: The file does not exist.\")\n",
    "        return\n",
    "    \n",
    "    # Ask user for output directory\n",
    "    output_dir = input(\"Enter the output directory (leave empty for 'encoded_videos'): \").strip() or \"encoded_videos\"\n",
    "    os.makedirs(output_dir, exist_ok=True)\n",
    "    \n",
    "    # Define resolution mappings\n",
    "    resolution_settings = {\n",
    "        \"1080p\": \"1920x1080\",\n",
    "        \"720p\": \"1280x720\",\n",
    "        \"480p\": \"854x480\",\n",
    "    }\n",
    "    \n",
    "    output_files = []\n",
    "    \n",
    "    # Iterate over the specified resolutions\n",
    "    for resolution in resolutions:\n",
    "        if resolution not in resolution_settings:\n",
    "            print(f\"Skipping unsupported resolution: {resolution}\")\n",
    "            continue\n",
    "        \n",
    "        output_file = os.path.join(output_dir, f\"{os.path.splitext(os.path.basename(input_file))[0]}_{resolution}.mp4\")\n",
    "        scale = resolution_settings[resolution]\n",
    "        \n",
    "        # FFmpeg command for scaling and encoding\n",
    "        command = [\n",
    "            \"ffmpeg\",\n",
    "            \"-i\", input_file,\n",
    "            \"-vf\", f\"scale={scale}\",\n",
    "            \"-c:v\", \"libx264\",  # Encoder\n",
    "            \"-crf\", \"23\",       # Constant Rate Factor (controls quality)\n",
    "            \"-preset\", \"medium\", # Encoding speed\n",
    "            \"-c:a\", \"aac\",       # Audio codec\n",
    "            \"-b:a\", \"128k\",      # Audio bitrate\n",
    "            output_file\n",
    "        ]\n",
    "        \n",
    "        try:\n",
    "            # Run the FFmpeg command\n",
    "            subprocess.run(command, check=True, stdout=subprocess.PIPE, stderr=subprocess.PIPE)\n",
    "            output_files.append(output_file)\n",
    "            print(f\"Successfully created: {output_file}\")\n",
    "        except subprocess.CalledProcessError as e:\n",
    "            print(f\"Error encoding {resolution}: {e.stderr.decode()}\")\n",
    "    \n",
    "    return output_files\n",
    "\n",
    "# Call the function\n",
    "encoded_files = create_encoding_ladder()\n",
    "if encoded_files:\n",
    "    print(\"\\nEncoding ladder complete! Encoded files:\")\n",
    "    for f in encoded_files:\n",
    "        print(f)\n"
   ]
  }
 ],
 "metadata": {
  "kernelspec": {
   "display_name": "Python 3",
   "language": "python",
   "name": "python3"
  },
  "language_info": {
   "codemirror_mode": {
    "name": "ipython",
    "version": 3
   },
   "file_extension": ".py",
   "mimetype": "text/x-python",
   "name": "python",
   "nbconvert_exporter": "python",
   "pygments_lexer": "ipython3",
   "version": "3.11.9"
  }
 },
 "nbformat": 4,
 "nbformat_minor": 2
}
