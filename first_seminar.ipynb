{
 "cells": [
  {
   "cell_type": "code",
   "execution_count": 2,
   "metadata": {},
   "outputs": [
    {
     "name": "stdout",
     "output_type": "stream",
     "text": [
      "Converted RGB [255, 0, 100] to YUV (91.335, 134.16, 232.84500000000003)\n",
      "Converted YUV (91.335, 134.16, 232.84500000000003) to RGB (255.02256000000006, 0.04239499999998042, 100.12081999999998)\n"
     ]
    }
   ],
   "source": [
    "class Translator:\n",
    "\n",
    "    def RGBtoYUV(RGB_Color):\n",
    "        R, G, B = (RGB_Color[i] for i in range(3))\n",
    "        Y = 0.257 * R + 0.504 * G + 0.098 * B + 16\n",
    "        U = -0.148 * R - 0.291 * G + 0.439 * B + 128\n",
    "        V = 0.439 * R - 0.368 * G - 0.071 * B + 128\n",
    "        return Y, U, V\n",
    "    \n",
    "    def YUVtoRGB(YUV_Color):\n",
    "        Y, U, V = (YUV_Color[i] for i in range(3))\n",
    "        B = 1.164 * (Y - 16) + 2.018 * (U - 128)\n",
    "        G = 1.164 * (Y - 16) - 0.813 * (V - 128) - 0.391 * (U - 128)\n",
    "        R = 1.164 * (Y - 16) + 1.596 * (V - 128)\n",
    "        return R, G, B\n",
    "\n",
    "A = [255, 0, 100]\n",
    "\n",
    "B = Translator.RGBtoYUV(A)\n",
    "\n",
    "print(\"Converted RGB {} to YUV {}\".format(A, B))\n",
    "\n",
    "A = Translator.YUVtoRGB(B)\n",
    "\n",
    "print(\"Converted YUV {} to RGB {}\".format(B, A))"
   ]
  },
  {
   "cell_type": "code",
   "execution_count": 8,
   "metadata": {},
   "outputs": [],
   "source": [
    "from PIL import Image\n",
    "\n",
    "import numpy as np"
   ]
  },
  {
   "cell_type": "code",
   "execution_count": 11,
   "metadata": {},
   "outputs": [
    {
     "name": "stdout",
     "output_type": "stream",
     "text": [
      "(1598, 1600, 3)\n"
     ]
    }
   ],
   "source": [
    "image = Image.open(\"Gato.jpg\")\n",
    "\n",
    "image = np.array(image)\n",
    "\n",
    "print(image.shape)"
   ]
  },
  {
   "cell_type": "code",
   "execution_count": null,
   "metadata": {},
   "outputs": [],
   "source": [
    "def ReadFileSerpentine(file):\n",
    "    arr = np.array()\n",
    "    row, col = 0\n",
    "    going_up = False\n",
    "    arr.append(file[row][col])\n",
    "\n",
    "    while (row != file.shape[0] - 1 or col != file.shape[1] - 1):\n",
    "        \n",
    "        if (row == 0):\n",
    "            arr.append(file[row][col])\n",
    "            col = col + 1\n",
    "            going_up = False\n",
    "\n",
    "        if (col == 0):\n",
    "            arr.append(file[row][col])\n",
    "            row = row + 1\n",
    "            going_up = True\n",
    "\n",
    "        arr.append(file[row][col])\n",
    "\n",
    "        if (going_up):\n",
    "            row = row - 1\n",
    "            col = col + 1\n",
    "        else:\n",
    "            row = row + 1\n",
    "            col = col - 1\n",
    "    \n",
    "    return arr\n"
   ]
  },
  {
   "cell_type": "code",
   "execution_count": 14,
   "metadata": {},
   "outputs": [
    {
     "name": "stdout",
     "output_type": "stream",
     "text": [
      "3\n"
     ]
    }
   ],
   "source": [
    "a = [[1, 2], [3, 4]]\n",
    "\n",
    "print(a[1][0])"
   ]
  }
 ],
 "metadata": {
  "kernelspec": {
   "display_name": "Python 3",
   "language": "python",
   "name": "python3"
  },
  "language_info": {
   "codemirror_mode": {
    "name": "ipython",
    "version": 3
   },
   "file_extension": ".py",
   "mimetype": "text/x-python",
   "name": "python",
   "nbconvert_exporter": "python",
   "pygments_lexer": "ipython3",
   "version": "3.11.9"
  }
 },
 "nbformat": 4,
 "nbformat_minor": 2
}
