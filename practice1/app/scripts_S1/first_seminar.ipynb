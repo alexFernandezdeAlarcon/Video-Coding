{
 "cells": [
  {
   "cell_type": "code",
   "execution_count": 1,
   "metadata": {},
   "outputs": [],
   "source": [
    "import os\n",
    "import subprocess\n",
    "import cv2                                  #pip install opencv-python\n",
    "import numpy as np\n",
    "\n",
    "from PIL import Image\n",
    "from scipy.fftpack import dct, idct\n",
    "from pywt import dwt, idwt                  #pip install PyWavelets on Terminal"
   ]
  },
  {
   "cell_type": "markdown",
   "metadata": {},
   "source": [
    "RGB - YUV Translator"
   ]
  },
  {
   "cell_type": "code",
   "execution_count": 2,
   "metadata": {},
   "outputs": [
    {
     "name": "stdout",
     "output_type": "stream",
     "text": [
      "Converted RGB [255, 0, 100] to YUV (91.335, 134.16, 232.84500000000003)\n",
      "Converted YUV (91.335, 134.16, 232.84500000000003) to RGB (255.02256000000006, 0.04239499999998042, 100.12081999999998)\n"
     ]
    }
   ],
   "source": [
    "class Translator:\n",
    "\n",
    "    def RGBtoYUV(RGB_Color):\n",
    "        R, G, B = (RGB_Color[i] for i in range(3))\n",
    "        Y = 0.257 * R + 0.504 * G + 0.098 * B + 16\n",
    "        U = -0.148 * R - 0.291 * G + 0.439 * B + 128\n",
    "        V = 0.439 * R - 0.368 * G - 0.071 * B + 128\n",
    "        return Y, U, V\n",
    "    \n",
    "    def YUVtoRGB(YUV_Color):\n",
    "        Y, U, V = (YUV_Color[i] for i in range(3))\n",
    "        B = 1.164 * (Y - 16) + 2.018 * (U - 128)\n",
    "        G = 1.164 * (Y - 16) - 0.813 * (V - 128) - 0.391 * (U - 128)\n",
    "        R = 1.164 * (Y - 16) + 1.596 * (V - 128)\n",
    "        return R, G, B\n",
    "\n",
    "A = [255, 0, 100]\n",
    "\n",
    "B = Translator.RGBtoYUV(A)\n",
    "\n",
    "print(\"Converted RGB {} to YUV {}\".format(A, B))\n",
    "\n",
    "A = Translator.YUVtoRGB(B)\n",
    "\n",
    "print(\"Converted YUV {} to RGB {}\".format(B, A))"
   ]
  },
  {
   "cell_type": "markdown",
   "metadata": {},
   "source": [
    "Resize using ffmpeg"
   ]
  },
  {
   "cell_type": "code",
   "execution_count": null,
   "metadata": {},
   "outputs": [
    {
     "name": "stdout",
     "output_type": "stream",
     "text": [
      "Resized image saved at C:/Video-Coding\n"
     ]
    }
   ],
   "source": [
    "#ADDING PATH TO LOCATE INPUT IMAGE AND CREATE OUTPUT IMAGE\n",
    "\n",
    "#image_location = \"C:/Video-Coding\"\n",
    "#image_name = \"Gato.jpg\"\n",
    "\n",
    "path = input(\"Paste the (absolute) path of the image you want to resize to SD:\")\n",
    "os.chdir(path)\n",
    "\n",
    "image_name = input(\"Type the name of the image (ex: IMG_1490.jpg)\")\n",
    "\n",
    "#VERTICAL (480X640) OR HORIZONTAL (640x480) ORIENTATION\n",
    "\n",
    "orientation = input(\"Type h if the image is horizontal, v if it is vertical:\")\n",
    "\n",
    "if orientation == \"v\":\n",
    "    command = ['ffmpeg', '-y', '-i', image_name, '-vf', 'scale=480:640', 'output_image_480x640.jpg']\n",
    "else:\n",
    "    command = ['ffmpeg', '-y', '-i', image_name, '-vf', 'scale=640:480', 'output_image_640x480.jpg']\n",
    "\n",
    "#EXECUTE THE FFMPEG COMMAND \n",
    "\n",
    "subprocess.run(command)\n",
    "print(\"Resized image saved at\", path)"
   ]
  },
  {
   "cell_type": "markdown",
   "metadata": {},
   "source": [
    "Serpentine reader"
   ]
  },
  {
   "cell_type": "code",
   "execution_count": 17,
   "metadata": {},
   "outputs": [],
   "source": [
    "def serpentine(matrix):\n",
    "    height, width = matrix.shape\n",
    "    result = []\n",
    "\n",
    "    # Iterate over diagonals in the matrix\n",
    "    for diag in range(height + width - 1):\n",
    "        if diag % 2 == 0:\n",
    "            # GOING UP\n",
    "            row = min(diag, height - 1)\n",
    "            col = diag - row\n",
    "            while row >= 0 and col < width:\n",
    "                result.append(matrix[row, col])\n",
    "                row -= 1\n",
    "                col += 1\n",
    "        else:\n",
    "            # GOING DOWN\n",
    "            col = min(diag, width - 1)\n",
    "            row = diag - col\n",
    "            while col >= 0 and row < height:\n",
    "                result.append(matrix[row, col])\n",
    "                row += 1\n",
    "                col -= 1\n",
    "\n",
    "    return result"
   ]
  },
  {
   "cell_type": "code",
   "execution_count": 22,
   "metadata": {},
   "outputs": [
    {
     "name": "stdout",
     "output_type": "stream",
     "text": [
      "[207, 207, 207, 207, 207, 206, 206, 206, 207, 207, 207, 207, 206, 206, 207, 208, 207, 206, 206, 207]\n",
      "Visual example:\n",
      "\n",
      "Original Pixels:\n",
      "\n",
      "[[1 2 3]\n",
      " [4 5 6]\n",
      " [7 8 9]]\n",
      "\n",
      "Serpentine-Read Final Array: [1, 2, 4, 7, 5, 3, 6, 8, 9]\n"
     ]
    }
   ],
   "source": [
    "#image_path = \"C:/Video-Coding/Gato.jpg\"\n",
    "\n",
    "image_path = input(\"Paste the (absolute) path of the image:\")\n",
    "\n",
    "image = Image.open(image_path).convert('L')  # Turn into B&W\n",
    "pixels = np.array(image)  # Convert image to numpy array\n",
    "\n",
    "final_array = serpentine(pixels)\n",
    "\n",
    "print(final_array[:20])\n",
    "\n",
    "print(\"Visual example:\\n\")\n",
    "\n",
    "mat = np.array([\n",
    "    [1, 2, 3],\n",
    "    [4, 5, 6],\n",
    "    [7, 8, 9]\n",
    "])\n",
    "\n",
    "print(\"Original Pixels:\\n\")\n",
    "print(mat)\n",
    "\n",
    "# Apply zigzag traversal\n",
    "zigzag_result = serpentine(mat)\n",
    "print(\"\\nSerpentine-Read Final Array:\", zigzag_result)\n"
   ]
  },
  {
   "cell_type": "markdown",
   "metadata": {},
   "source": [
    "Transform image into B&W using ffmpeg"
   ]
  },
  {
   "cell_type": "code",
   "execution_count": null,
   "metadata": {},
   "outputs": [
    {
     "name": "stdout",
     "output_type": "stream",
     "text": [
      "Transformed image saved at C:/Video-Coding\n"
     ]
    }
   ],
   "source": [
    "#ADDING PATH TO LOCATE INPUT IMAGE AND CREATE OUTPUT IMAGE\n",
    "\n",
    "path = input(\"Paste the (absolute) path where the image you want to transform to B/W is located:\")\n",
    "\n",
    "os.chdir(path)\n",
    "\n",
    "image_name = input(\"Type the name of the image (ex: IMG_1490.jpg)\")\n",
    "\n",
    "#QUALITY/COMPRESSION RATE RANGING BETWEEN [1,31], (1: HIGH QUALITY LOW COMPRESSION, 31: LOW QUALITY HIGH COMPRESSION)\n",
    "\n",
    "quality_compression_rate = \"28\"  #CHANGE AS YOU WISH\n",
    "\n",
    "command = [\"ffmpeg\", \"-y\", \"-i\", image_name, \"-vf\", \"format=gray\", \"-q:v\", quality_compression_rate, \"output_gray_compressed.jpg\"]\n",
    "\n",
    "subprocess.run(command)\n",
    "print(\"Transformed image saved at\", path)"
   ]
  },
  {
   "cell_type": "markdown",
   "metadata": {},
   "source": [
    "Run-length Encoder"
   ]
  },
  {
   "cell_type": "code",
   "execution_count": 5,
   "metadata": {},
   "outputs": [
    {
     "name": "stdout",
     "output_type": "stream",
     "text": [
      "RLE final list (binary representation): [8, '00000001', 7, '00000100', 10, '00000010', 4, '00000011', 10, '00000101', 7, '00000111', 4, '00000110']\n",
      "RLE final list (decimal representation): [8, 1, 7, 4, 10, 2, 4, 3, 10, 5, 7, 7, 4, 6]\n"
     ]
    }
   ],
   "source": [
    "example = [\"00000001\", \"00000100\", \"00000010\", \"00000011\", \"00000100\", \"00000001\", \"00000101\", \"00000101\", \"00000001\", \"00000010\",\n",
    " \"00000101\", \"00000010\", \"00000011\", \"00000010\", \"00000010\", \"00000001\", \"00000100\", \"00000001\", \"00000101\", \"00000101\",\n",
    " \"00000101\", \"00000001\", \"00000111\", \"00000001\", \"00000011\", \"00000111\", \"00000010\", \"00000010\", \"00000110\", \"00000101\",\n",
    " \"00000111\", \"00000010\", \"00000011\", \"00000111\", \"00000101\", \"00000110\", \"00000110\", \"00000100\", \"00000111\", \"00000110\",\n",
    " \"00000111\", \"00000001\", \"00000100\", \"00000101\", \"00000010\", \"00000100\", \"00000101\", \"00000010\", \"00000111\", \"00000100\"]\n",
    "\n",
    "\n",
    "rle_encoding = []   #FINAL RLE LIST \n",
    "rle_encoding_decimal = []  #FINAL RLE (IN DECIMAL) LIST\n",
    "\n",
    "for i in range(0,len(example)):\n",
    "\n",
    "    if example[i] not in rle_encoding:  #IGNORE THE BIT SEQUENCES ALREADY ENCODED (AVOID REPES)\n",
    "        current = example[i]\n",
    "        repetitions = 0\n",
    "\n",
    "        for j in range(0,len(example)):\n",
    "            if example[j] == current:\n",
    "                repetitions = repetitions + 1  #COUNTING HOW MANY TIMES A BIT SEQUENCE APPEARS\n",
    "\n",
    "        rle_encoding.append(repetitions)  #ADD NUMBER OF REPETITIONS OF CURRENT BIT SEQUENCE\n",
    "        rle_encoding.append(example[i])   #ADD CURRENT BIT SEQUENCE\n",
    "\n",
    "print(\"RLE final list (binary representation):\", rle_encoding)\n",
    "\n",
    "rle_encoding_decimal = rle_encoding.copy()  #COPY FINAL RLE \n",
    "\n",
    "for k in range(0,len(rle_encoding_decimal)):\n",
    "\n",
    "    if isinstance(rle_encoding_decimal[k], str):  #IF CURRENT ELEMENT IS A BIT SEQUENCE\n",
    "        rle_encoding_decimal[k] = int(rle_encoding_decimal[k],2) #TRANSFORM BIT SEQUENCE TO DECIMAL REPRESENTATION\n",
    "\n",
    "print(\"RLE final list (decimal representation):\", rle_encoding_decimal)"
   ]
  },
  {
   "cell_type": "markdown",
   "metadata": {},
   "source": [
    "DCT Encoding & Decoding"
   ]
  },
  {
   "cell_type": "code",
   "execution_count": null,
   "metadata": {},
   "outputs": [],
   "source": [
    "#image_path = \"C:/Video-Coding/Gato.jpg\"\n",
    "\n",
    "image_path = input(\"Paste the (absolute) path of the image:\")\n",
    "\n",
    "image = cv2.imread(image_path) #Example with an image\n",
    "\n",
    "Transformed_to_DCT = dct(image,type=2)  #Type 2 of DCT, implemented directly from scipy library\n",
    "\n",
    "Inverse_DCT = idct(Transformed_to_DCT,type=2)\n",
    "\n",
    "#DOCUMENTATION: https://docs.scipy.org/doc/scipy/reference/generated/scipy.fftpack.dct.html"
   ]
  },
  {
   "cell_type": "markdown",
   "metadata": {},
   "source": [
    "DWT Encoding & Decoding"
   ]
  },
  {
   "cell_type": "code",
   "execution_count": null,
   "metadata": {},
   "outputs": [],
   "source": [
    "#image_path = 'C:/Users/alexf/Downloads/IMG_1780.jpeg' \n",
    "#image_path = \"C:/Video-Coding/Gato.jpg\"\n",
    "\n",
    "image_path = input(\"Paste the (absolute) path of the image:\")\n",
    "\n",
    "image = cv2.imread(image_path) #Example with an image\n",
    "\n",
    "#whatever_input\n",
    "\n",
    "Transformed_to_DWT = dwt(image,'db1') # implemented directly from PyWavelets library, db1 mode used to compress images\n",
    "\n",
    "Inverse_DWT = idwt(None,Transformed_to_DWT,'db1')\n",
    "\n",
    "#DOCUMENTATION: https://pywavelets.readthedocs.io/en/latest/ref/dwt-discrete-wavelet-transform.html"
   ]
  }
 ],
 "metadata": {
  "kernelspec": {
   "display_name": "Python 3",
   "language": "python",
   "name": "python3"
  },
  "language_info": {
   "codemirror_mode": {
    "name": "ipython",
    "version": 3
   },
   "file_extension": ".py",
   "mimetype": "text/x-python",
   "name": "python",
   "nbconvert_exporter": "python",
   "pygments_lexer": "ipython3",
   "version": "3.11.9"
  }
 },
 "nbformat": 4,
 "nbformat_minor": 2
}
