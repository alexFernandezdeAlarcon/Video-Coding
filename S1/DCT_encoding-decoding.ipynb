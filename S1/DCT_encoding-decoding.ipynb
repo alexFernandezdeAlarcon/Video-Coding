{
 "cells": [
  {
   "cell_type": "code",
   "execution_count": 1,
   "metadata": {},
   "outputs": [],
   "source": [
    "from scipy.fftpack import dct, idct\n",
    "import cv2 "
   ]
  },
  {
   "cell_type": "code",
   "execution_count": 2,
   "metadata": {},
   "outputs": [
    {
     "name": "stdout",
     "output_type": "stream",
     "text": [
      "ok\n"
     ]
    }
   ],
   "source": [
    "image_path = 'C:/Users/alexf/Downloads/IMG_1780.jpeg' \n",
    "\n",
    "image = cv2.imread(image_path) #Example with an image\n",
    "\n",
    "#whatever_input\n",
    "\n",
    "Transformed_to_DCT = dct(image,type=2)  #Type 2 of DCT, implemented directly from scipy library\n",
    "\n",
    "Inverse_DCT = idct(Transformed_to_DCT,type=2)\n",
    "\n",
    "#DOCUMENTATION: https://docs.scipy.org/doc/scipy/reference/generated/scipy.fftpack.dct.html"
   ]
  }
 ],
 "metadata": {
  "kernelspec": {
   "display_name": "Python 3",
   "language": "python",
   "name": "python3"
  },
  "language_info": {
   "codemirror_mode": {
    "name": "ipython",
    "version": 3
   },
   "file_extension": ".py",
   "mimetype": "text/x-python",
   "name": "python",
   "nbconvert_exporter": "python",
   "pygments_lexer": "ipython3",
   "version": "3.11.9"
  }
 },
 "nbformat": 4,
 "nbformat_minor": 2
}
