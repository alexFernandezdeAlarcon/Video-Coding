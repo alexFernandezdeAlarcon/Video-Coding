{
 "cells": [
  {
   "cell_type": "code",
   "execution_count": 1,
   "metadata": {},
   "outputs": [
    {
     "name": "stdout",
     "output_type": "stream",
     "text": [
      "RLE final list (binary representation): [8, '00000001', 7, '00000100', 10, '00000010', 4, '00000011', 10, '00000101', 7, '00000111', 4, '00000110']\n",
      "RLE final list (decimal representation): [8, 1, 7, 4, 10, 2, 4, 3, 10, 5, 7, 7, 4, 6]\n"
     ]
    }
   ],
   "source": [
    "example = [\"00000001\", \"00000100\", \"00000010\", \"00000011\", \"00000100\", \"00000001\", \"00000101\", \"00000101\", \"00000001\", \"00000010\",\n",
    " \"00000101\", \"00000010\", \"00000011\", \"00000010\", \"00000010\", \"00000001\", \"00000100\", \"00000001\", \"00000101\", \"00000101\",\n",
    " \"00000101\", \"00000001\", \"00000111\", \"00000001\", \"00000011\", \"00000111\", \"00000010\", \"00000010\", \"00000110\", \"00000101\",\n",
    " \"00000111\", \"00000010\", \"00000011\", \"00000111\", \"00000101\", \"00000110\", \"00000110\", \"00000100\", \"00000111\", \"00000110\",\n",
    " \"00000111\", \"00000001\", \"00000100\", \"00000101\", \"00000010\", \"00000100\", \"00000101\", \"00000010\", \"00000111\", \"00000100\"]\n",
    "\n",
    "\n",
    "rle_encoding = []   #FINAL RLE LIST \n",
    "rle_encoding_decimal = []  #FINAL RLE (IN DECIMAL) LIST\n",
    "\n",
    "for i in range(0,len(example)):\n",
    "\n",
    "    if example[i] not in rle_encoding:  #IGNORE THE BIT SEQUENCES ALREADY ENCODED (AVOID REPES)\n",
    "        current = example[i]\n",
    "        repetitions = 0\n",
    "\n",
    "        for j in range(0,len(example)):\n",
    "            if example[j] == current:\n",
    "                repetitions = repetitions + 1  #COUNTING HOW MANY TIMES A BIT SEQUENCE APPEARS\n",
    "\n",
    "        rle_encoding.append(repetitions)  #ADD NUMBER OF REPETITIONS OF CURRENT BIT SEQUENCE\n",
    "        rle_encoding.append(example[i])   #ADD CURRENT BIT SEQUENCE\n",
    "\n",
    "print(\"RLE final list (binary representation):\", rle_encoding)\n",
    "\n",
    "rle_encoding_decimal = rle_encoding.copy()  #COPY FINAL RLE \n",
    "\n",
    "for k in range(0,len(rle_encoding_decimal)):\n",
    "\n",
    "    if isinstance(rle_encoding_decimal[k], str):  #IF CURRENT ELEMENT IS A BIT SEQUENCE\n",
    "        rle_encoding_decimal[k] = int(rle_encoding_decimal[k],2) #TRANSFORM BIT SEQUENCE TO DECIMAL REPRESENTATION\n",
    "\n",
    "print(\"RLE final list (decimal representation):\", rle_encoding_decimal)"
   ]
  }
 ],
 "metadata": {
  "kernelspec": {
   "display_name": "Python 3",
   "language": "python",
   "name": "python3"
  },
  "language_info": {
   "codemirror_mode": {
    "name": "ipython",
    "version": 3
   },
   "file_extension": ".py",
   "mimetype": "text/x-python",
   "name": "python",
   "nbconvert_exporter": "python",
   "pygments_lexer": "ipython3",
   "version": "3.11.9"
  }
 },
 "nbformat": 4,
 "nbformat_minor": 2
}
