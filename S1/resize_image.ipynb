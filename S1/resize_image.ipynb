{
 "cells": [
  {
   "cell_type": "code",
   "execution_count": 1,
   "metadata": {},
   "outputs": [],
   "source": [
    "#NEEDED LIBRARIES\n",
    "\n",
    "import os\n",
    "import subprocess"
   ]
  },
  {
   "cell_type": "code",
   "execution_count": 9,
   "metadata": {},
   "outputs": [
    {
     "name": "stdout",
     "output_type": "stream",
     "text": [
      "Resized image saved at C:\\Users\\alexf\\Downloads\n"
     ]
    }
   ],
   "source": [
    "#ADDING PATH TO LOCATE INPUT IMAGE AND CREATE OUTPUT IMAGE\n",
    "\n",
    "path = input(\"Paste the (absolute) path of the image you want to resize to SD:\")\n",
    "os.chdir(path)\n",
    "\n",
    "image_name = input(\"Type the name of the image (ex: IMG_1490.jpg)\")\n",
    "\n",
    "#VERTICAL (480X640) OR HORIZONTAL (640x480) ORIENTATION\n",
    "\n",
    "orientation = input(\"Type h if the image is horizontal, v if it is vertical:\")\n",
    "\n",
    "if orientation == \"v\":\n",
    "    command = ['ffmpeg', '-y', '-i', image_name, '-vf', 'scale=480:640', 'output_image_480x640.jpg']\n",
    "else:\n",
    "    command = ['ffmpeg', '-y', '-i', image_name, '-vf', 'scale=640:480', 'output_image_640x480.jpg']\n",
    "\n",
    "#EXECUTE THE FFMPEG COMMAND \n",
    "\n",
    "subprocess.run(command)\n",
    "print(\"Resized image saved at\", path)"
   ]
  }
 ],
 "metadata": {
  "kernelspec": {
   "display_name": "Python 3",
   "language": "python",
   "name": "python3"
  },
  "language_info": {
   "codemirror_mode": {
    "name": "ipython",
    "version": 3
   },
   "file_extension": ".py",
   "mimetype": "text/x-python",
   "name": "python",
   "nbconvert_exporter": "python",
   "pygments_lexer": "ipython3",
   "version": "3.11.9"
  }
 },
 "nbformat": 4,
 "nbformat_minor": 2
}
