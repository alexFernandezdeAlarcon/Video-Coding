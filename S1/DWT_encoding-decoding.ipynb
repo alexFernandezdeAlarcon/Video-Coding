{
 "cells": [
  {
   "cell_type": "code",
   "execution_count": 3,
   "metadata": {},
   "outputs": [],
   "source": [
    "from pywt import dwt, idwt  #pip install PyWavelets on Terminal\n",
    "import cv2 "
   ]
  },
  {
   "cell_type": "code",
   "execution_count": 5,
   "metadata": {},
   "outputs": [
    {
     "name": "stdout",
     "output_type": "stream",
     "text": [
      "ok\n"
     ]
    }
   ],
   "source": [
    "image_path = 'C:/Users/alexf/Downloads/IMG_1780.jpeg' \n",
    "\n",
    "image = cv2.imread(image_path) #Example with an image\n",
    "\n",
    "#whatever_input\n",
    "\n",
    "Transformed_to_DWT = dwt(image,'db1') # implemented directly from PyWavelets library, db1 mode used to compress images\n",
    "\n",
    "Inverse_DWT = idwt(None,Transformed_to_DWT,'db1')\n",
    "\n",
    "#DOCUMENTATION: https://pywavelets.readthedocs.io/en/latest/ref/dwt-discrete-wavelet-transform.html"
   ]
  }
 ],
 "metadata": {
  "kernelspec": {
   "display_name": "Python 3",
   "language": "python",
   "name": "python3"
  },
  "language_info": {
   "codemirror_mode": {
    "name": "ipython",
    "version": 3
   },
   "file_extension": ".py",
   "mimetype": "text/x-python",
   "name": "python",
   "nbconvert_exporter": "python",
   "pygments_lexer": "ipython3",
   "version": "3.11.9"
  }
 },
 "nbformat": 4,
 "nbformat_minor": 2
}
